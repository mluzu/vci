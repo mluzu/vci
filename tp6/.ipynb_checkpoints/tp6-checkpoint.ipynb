{
 "cells": [
  {
   "cell_type": "code",
   "execution_count": 2,
   "id": "c3165a27",
   "metadata": {},
   "outputs": [],
   "source": [
    "import cv2 as cv\n",
    "\n",
    "face_cascade = cv.CascadeClassifier(cv.data.haarcascades +'haarcascade_frontalface_default.xml')\n",
    "eye_cascade = cv.CascadeClassifier(cv.data.haarcascades +'haarcascade_eye.xml')\n",
    "smile_cascade = cv.CascadeClassifier(cv.data.haarcascades +'haarcascade_smile.xml')\n",
    "\n",
    "def detect(gray, frame):\n",
    "    # detecta cara\n",
    "    faces = face_cascade.detectMultiScale(gray, 1.1, 10)\n",
    "    for (x, y, w, h) in faces:\n",
    "        cv.rectangle(frame, (x, y), ((x + w), (y + h)), (255, 0, 0), 2)\n",
    "        roi_gray = gray[y:y + h, x:x + w]\n",
    "        roi_color = frame[y:y + h, x:x + w]\n",
    "        \n",
    "        #detecta sonrisas y pone rectangulo en frame\n",
    "        smiles = smile_cascade.detectMultiScale(roi_gray, 1.3, 20)\n",
    "        for (sx, sy, sw, sh) in smiles:\n",
    "            cv.rectangle(roi_color, (sx, sy), ((sx + sw), (sy + sh)), (0, 0, 255), 2)\n",
    "            \n",
    "        #detecta ojos y pone rectangulos en frame\n",
    "        roi_color = frame[y:y + h, x:x + w]\n",
    "        eyes = eye_cascade.detectMultiScale(roi_gray, 1.3, 20)\n",
    "        for (sx, sy, sw, sh) in eyes:\n",
    "            cv.rectangle(roi_color, (sx, sy), ((sx + sw), (sy + sh)), (0, 0, 255), 2)\n",
    "    \n",
    "    return frame\n",
    "\n",
    "term_crit = ( cv.TERM_CRITERIA_COUNT | cv.TERM_CRITERIA_EPS, 10, 1 )\n",
    "\n",
    "cam = cv.VideoCapture(0)\n",
    "while True:\n",
    "  \n",
    "    ret ,frame = cam.read()\n",
    "    if ret: \n",
    " \n",
    "        # paso captura a grises                  \n",
    "        gray = cv.cvtColor(frame, cv.COLOR_BGR2GRAY) \n",
    "\n",
    "        # detecto   \n",
    "        canvas = detect(gray, frame)  \n",
    "     \n",
    "        # muestra frame con detecciones                    \n",
    "        cv.imshow('Video', canvas)\n",
    "                           \n",
    "        k = cv.waitKey(60) & 0xff\n",
    "        if k == 27:\n",
    "            break\n",
    "        elif k == ord('s'):\n",
    "            cv.imwrite(chr(k)+\".jpg\",canvas)\n",
    "    else:\n",
    "        break\n",
    " \n",
    "cv.destroyAllWindows()\n",
    "cam.release()                                \n",
    "\n"
   ]
  },
  {
   "cell_type": "code",
   "execution_count": null,
   "id": "dc15d3f5",
   "metadata": {},
   "outputs": [],
   "source": []
  },
  {
   "cell_type": "code",
   "execution_count": null,
   "id": "1e07e138",
   "metadata": {},
   "outputs": [],
   "source": []
  }
 ],
 "metadata": {
  "kernelspec": {
   "display_name": "Python 3",
   "language": "python",
   "name": "python3"
  },
  "language_info": {
   "codemirror_mode": {
    "name": "ipython",
    "version": 3
   },
   "file_extension": ".py",
   "mimetype": "text/x-python",
   "name": "python",
   "nbconvert_exporter": "python",
   "pygments_lexer": "ipython3",
   "version": "3.8.8"
  }
 },
 "nbformat": 4,
 "nbformat_minor": 5
}

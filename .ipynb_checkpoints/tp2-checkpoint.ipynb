{
 "cells": [
  {
   "cell_type": "code",
   "execution_count": 2,
   "metadata": {},
   "outputs": [
    {
     "ename": "error",
     "evalue": "OpenCV(4.5.2) /tmp/pip-req-build-oxjbfc17/opencv/modules/imgproc/src/deriv.cpp:792: error: (-215:Assertion failed) !_src.empty() in function 'Laplacian'\n",
     "output_type": "error",
     "traceback": [
      "\u001b[0;31m---------------------------------------------------------------------------\u001b[0m",
      "\u001b[0;31merror\u001b[0m                                     Traceback (most recent call last)",
      "\u001b[0;32m<ipython-input-2-2eea49359779>\u001b[0m in \u001b[0;36m<module>\u001b[0;34m\u001b[0m\n\u001b[1;32m      6\u001b[0m \u001b[0mimage\u001b[0m \u001b[0;34m=\u001b[0m \u001b[0mcv2\u001b[0m\u001b[0;34m.\u001b[0m\u001b[0mimread\u001b[0m\u001b[0;34m(\u001b[0m\u001b[0;34m\"tela2.png\"\u001b[0m\u001b[0;34m)\u001b[0m\u001b[0;34m\u001b[0m\u001b[0;34m\u001b[0m\u001b[0m\n\u001b[1;32m      7\u001b[0m \u001b[0;31m# calculo laplaciano con un kernel de tamaño 3\u001b[0m\u001b[0;34m\u001b[0m\u001b[0;34m\u001b[0m\u001b[0;34m\u001b[0m\u001b[0m\n\u001b[0;32m----> 8\u001b[0;31m \u001b[0mlap\u001b[0m \u001b[0;34m=\u001b[0m \u001b[0mcv2\u001b[0m\u001b[0;34m.\u001b[0m\u001b[0mLaplacian\u001b[0m\u001b[0;34m(\u001b[0m\u001b[0mimage\u001b[0m\u001b[0;34m,\u001b[0m\u001b[0mcv2\u001b[0m\u001b[0;34m.\u001b[0m\u001b[0mCV_64F\u001b[0m\u001b[0;34m,\u001b[0m\u001b[0mksize\u001b[0m\u001b[0;34m=\u001b[0m\u001b[0;36m3\u001b[0m\u001b[0;34m)\u001b[0m\u001b[0;34m\u001b[0m\u001b[0;34m\u001b[0m\u001b[0m\n\u001b[0m\u001b[1;32m      9\u001b[0m \u001b[0;31m# convierto el resultado a uint8\u001b[0m\u001b[0;34m\u001b[0m\u001b[0;34m\u001b[0m\u001b[0;34m\u001b[0m\u001b[0m\n\u001b[1;32m     10\u001b[0m \u001b[0mlap\u001b[0m \u001b[0;34m=\u001b[0m \u001b[0mnp\u001b[0m\u001b[0;34m.\u001b[0m\u001b[0muint8\u001b[0m\u001b[0;34m(\u001b[0m\u001b[0mnp\u001b[0m\u001b[0;34m.\u001b[0m\u001b[0mabsolute\u001b[0m\u001b[0;34m(\u001b[0m\u001b[0mlap\u001b[0m\u001b[0;34m)\u001b[0m\u001b[0;34m)\u001b[0m\u001b[0;34m\u001b[0m\u001b[0;34m\u001b[0m\u001b[0m\n",
      "\u001b[0;31merror\u001b[0m: OpenCV(4.5.2) /tmp/pip-req-build-oxjbfc17/opencv/modules/imgproc/src/deriv.cpp:792: error: (-215:Assertion failed) !_src.empty() in function 'Laplacian'\n"
     ]
    }
   ],
   "source": [
    "import cv2\n",
    "import numpy as np\n",
    "import matplotlib.pyplot as plot\n",
    "\n",
    "\n",
    "\n",
    "def gradients(img):\n",
    "    \n",
    "    # calculo laplaciano con un kernel de tamaño 3\n",
    "    lap = cv2.Laplacian(image,cv2.CV_64F,ksize=3) \n",
    "    # convierto el resultado a uint8\n",
    "    lap = np.uint8(np.absolute(lap))\n",
    "\n",
    "    # calculo el gradiente en la dirección x\n",
    "    sobelx= cv2.Sobel(image,0, dx=1,dy=0)\n",
    "    sobelx= np.uint8(np.absolute(sobelx))\n",
    "\n",
    "    # calculo el gradiente en la dirección y\n",
    "    sobely= cv2.Sobel(image,0, dx=0,dy=1)\n",
    "    sobely = np.uint8(np.absolute(sobely))\n",
    "\n",
    "    return lap, sobelx, sobely\n",
    "\n",
    "# tela\n",
    "image = cv2.imread(\"tela2.jpg\")\n",
    "lap, sobx, soby = gradients()\n",
    "plot.title(\"Gradiente x,y\")\n",
    "plot.subplot(1,3,1)\n",
    "plot.imshow(lap,\"plasma\")\n",
    "plot.xticks([])\n",
    "plot.yticks([])\n",
    "plot.show()\n",
    "\n",
    "plot.title(\"Gradiente en x\")\n",
    "plot.subplot(1,3,2)\n",
    "plot.imshow(sobelx,\"plasma\")\n",
    "plot.xticks([])\n",
    "plot.yticks([])\n",
    "plot.show()\n",
    "\n",
    "plot.title(\"Gradiente en y\")\n",
    "plot.subplot(1,3,3)\n",
    "plot.imshow(sobely,\"plasma\")\n",
    "plot.xticks([])\n",
    "plot.yticks([])\n",
    "plot.show()\n",
    "\n",
    "\n",
    "# malla\n",
    "image = cv2.imread(\"metalgrid.jpg\")\n",
    "lap, sobx, soby = gradients()\n",
    "plot.title(\"Gradiente x,y\")\n",
    "plot.subplot(1,3,1)\n",
    "plot.imshow(lap,\"plasma\")\n",
    "plot.xticks([])\n",
    "plot.yticks([])\n",
    "plot.show()\n",
    "\n",
    "plot.title(\"Gradiente en x\")\n",
    "plot.subplot(1,3,2)\n",
    "plot.imshow(sobelx,\"plasma\")\n",
    "plot.xticks([])\n",
    "plot.yticks([])\n",
    "plot.show()\n",
    "\n",
    "plot.title(\"Gradiente en y\")\n",
    "plot.subplot(1,3,3)\n",
    "plot.imshow(sobely,\"plasma\")\n",
    "plot.xticks([])\n",
    "plot.yticks([])\n",
    "plot.show()"
   ]
  },
  {
   "cell_type": "code",
   "execution_count": null,
   "metadata": {},
   "outputs": [],
   "source": []
  }
 ],
 "metadata": {
  "kernelspec": {
   "display_name": "vci",
   "language": "python",
   "name": "vci"
  },
  "language_info": {
   "codemirror_mode": {
    "name": "ipython",
    "version": 3
   },
   "file_extension": ".py",
   "mimetype": "text/x-python",
   "name": "python",
   "nbconvert_exporter": "python",
   "pygments_lexer": "ipython3",
   "version": "3.7.10"
  }
 },
 "nbformat": 4,
 "nbformat_minor": 4
}

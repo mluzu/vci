{
 "cells": [
  {
   "cell_type": "code",
   "execution_count": 75,
   "metadata": {},
   "outputs": [
    {
     "name": "stdout",
     "output_type": "stream",
     "text": [
      "Using matplotlib backend: Qt5Agg\n"
     ]
    }
   ],
   "source": [
    "import cv2 as cv\n",
    "import numpy as np\n",
    "import matplotlib.pyplot as plt\n",
    "\n",
    "%matplotlib\n",
    "\n",
    "def graph_gradients(file):\n",
    "    \n",
    "    img = cv.imread(file)\n",
    "    \n",
    "    gray = cv.cvtColor(img, cv.COLOR_BGR2GRAY)\n",
    "    \n",
    "    # suavizamos la imagen\n",
    "    blurimg = cv.GaussianBlur(gray,(5,5),0)\n",
    "\n",
    "    # calculo laplaciano con un kernel de tamaño 3\n",
    "    lap = cv.Laplacian(blurimg,cv.CV_64F,ksize=3) \n",
    "\n",
    "    # calculo el gradiente en la dirección x\n",
    "    sobelx= cv.Sobel(blurimg, cv.CV_64F, dx=1, dy=0)\n",
    "\n",
    "    # calculo el gradiente en la dirección y\n",
    "    sobely= cv.Sobel(blurimg, cv.CV_64F, dx=0, dy=1)\n",
    "    \n",
    "    # magnitud de los gadientres\n",
    "    mag = np.hypot(sobelx, sobely)\n",
    "    # soluciono overflow\n",
    "    mag = mag/mag.max()*255 \n",
    "    \n",
    "    # dirección de los gradientes\n",
    "    theta = np.arctan2(sobely, sobelx)\n",
    "    angle = np.rad2deg(theta)\n",
    "\n",
    "    # convierto todos los resultados a uint8\n",
    "    lap = np.uint8(np.absolute(lap))\n",
    "    sobelx= np.uint8(np.absolute(sobelx))\n",
    "    sobely = np.uint8(np.absolute(sobely))\n",
    "    mag = np.uint8(mag)\n",
    "    \n",
    "    # coloreamos los gradientes\n",
    "    red = np.array([255, 0, 0])\n",
    "    cyan = np.array([0, 255, 255])\n",
    "    green = np.array([0, 255, 0])\n",
    "    yellow = np.array([255, 255, 0])\n",
    "    \n",
    "    M, N = mag.shape\n",
    "    image_map = np.zeros((M, N, 3), dtype= np.uint16)\n",
    "    \n",
    "    \n",
    "    for i in range(0, M):\n",
    "        for j in range(0, N):\n",
    "            if angle[i][j] < 90.0:\n",
    "                image_map[i, j, :] = red\n",
    "            elif angle[i][j] >= 90.0 and angle[i][j] < 180.0:\n",
    "                image_map[i, j, :] = cyan\n",
    "            elif angle[i][j] >= 180.0 and angle[i][j] < 270.0:\n",
    "                image_map[i, j, :] = green\n",
    "            elif angle[i][j] >= 270.0 and angle[i][j] < 360.0:\n",
    "                image_map[i, j, :] = yellow\n",
    "\n",
    "    ax1=plt.subplot(2,3,1),plt.imshow(img,cmap = 'gray')\n",
    "    plt.title('Original'), plt.xticks([]), plt.yticks([])\n",
    "    ax2=plt.subplot(2,3,2),plt.imshow(lap,cmap = 'gray')\n",
    "    plt.title('Laplaciano'), plt.xticks([]), plt.yticks([])\n",
    "    ax3=plt.subplot(2,3,3),plt.imshow(sobelx,cmap = 'gray')\n",
    "    plt.title('Sobel X'), plt.xticks([]), plt.yticks([])\n",
    "    ax4=plt.subplot(2,3,4),plt.imshow(sobely,cmap = 'gray')\n",
    "    plt.title('Sobel Y'), plt.xticks([]), plt.yticks([])\n",
    "    ax5=plt.subplot(2,3,5),plt.imshow(mag,cmap = 'gray')\n",
    "    plt.title('Magnitud del Gradiente'), plt.xticks([]), plt.yticks([])\n",
    "    ax6=plt.subplot(2,3,6),plt.imshow(image_map)\n",
    "    plt.title('Dirección del Gradiente'), plt.xticks([]), plt.yticks([])\n"
   ]
  },
  {
   "cell_type": "code",
   "execution_count": 76,
   "metadata": {},
   "outputs": [],
   "source": [
    "# malla\n",
    "graph_gradients(\"metalgrid.jpg\")"
   ]
  },
  {
   "cell_type": "code",
   "execution_count": null,
   "metadata": {},
   "outputs": [],
   "source": []
  }
 ],
 "metadata": {
  "kernelspec": {
   "display_name": "vci",
   "language": "python",
   "name": "vci"
  },
  "language_info": {
   "codemirror_mode": {
    "name": "ipython",
    "version": 3
   },
   "file_extension": ".py",
   "mimetype": "text/x-python",
   "name": "python",
   "nbconvert_exporter": "python",
   "pygments_lexer": "ipython3",
   "version": "3.7.10"
  }
 },
 "nbformat": 4,
 "nbformat_minor": 4
}

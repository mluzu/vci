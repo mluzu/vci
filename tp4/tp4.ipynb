{
 "cells": [
  {
   "cell_type": "code",
   "execution_count": null,
   "metadata": {},
   "outputs": [
    {
     "data": {
      "image/png": "[encoded data removed]",
      "text/plain": [
       "<Figure size 432x288 with 1 Axes>"
      ]
     },
     "metadata": {
      "needs_background": "light"
     },
     "output_type": "display_data"
    }
   ],
   "source": [
    "import numpy as np\n",
    "import cv2 as cv\n",
    "from matplotlib import pyplot as plt\n",
    "\n",
    "%matplotlib inline\n",
    "\n",
    "def umbral(center, pixels):\n",
    "    out = []\n",
    "    for a in pixels:\n",
    "        if a >= center:\n",
    "            out.append(1)\n",
    "        else:\n",
    "            out.append(0)\n",
    "    return out\n",
    "\n",
    "def get_pixel_by_idx(m, idx, idy, default=0):\n",
    "    try:\n",
    "        return m[idx,idy]\n",
    "    except IndexError:\n",
    "        return default\n",
    "\n",
    "def lbp(file):\n",
    "    img = cv.imread(file, 0)\n",
    "    # por cada pixel proceso los 8 pixeles circundantes\n",
    "    for x in range(0, len(img)):\n",
    "        for y in range(0, len(img[0])):\n",
    "            center = img[x,y]\n",
    "            tl = get_pixel_by_idx(img, x-1, y-1)\n",
    "            tu = get_pixel_by_idx(img, x, y-1)\n",
    "            tr = get_pixel_by_idx(img, x+1, y-1)\n",
    "            r = get_pixel_by_idx(img, x+1, y )\n",
    "            l = get_pixel_by_idx(img, x-1, y )\n",
    "            bl = get_pixel_by_idx(img, x-1, y+1)\n",
    "            br = get_pixel_by_idx(img, x+1, y+1)\n",
    "            bd = get_pixel_by_idx(img, x,   y+1 )\n",
    "\n",
    "            values = umbral(center, [tl, tu, tr, r, br, bd, bl, l])\n",
    "            weights = [1, 2, 4, 8, 16, 32, 64, 128]\n",
    "            acc = 0\n",
    "            for i in range(0, len(values)):\n",
    "                acc += weights[i] * values[i]\n",
    "            \n",
    "            img.itemset((x,y), acc)\n",
    "\n",
    "    return img\n",
    "\n",
    "\n",
    "def plot_histograms(img1, img2):\n",
    "    hist, bins = np.histogram(img.flatten(),256,[0,256])\n",
    "\n",
    "    cdf = hist.cumsum()\n",
    "    cdf_normalized = cdf * hist.max()/ cdf.max()\n",
    "\n",
    "    plt.plot(cdf_normalized, color = 'b')\n",
    "    plt.hist(img2.flatten(),256,[0,256], color = 'r')\n",
    "    plt.xlim([0,256])\n",
    "    plt.legend(('cdf','histogram'), loc = 'upper left')\n",
    "    plt.show()\n",
    "    \n",
    "\n",
    "imagenes = ['ladrillos1.png', 'ladrillos2.png', 'oveja1.png', 'oveja2.png', 'piedras1.png', \n",
    "            'piedras2.png', 'cielo.png', 'rbt_scn1_focus.png', 'rbt_scn3_focus.png', 'rbt_scn4_focus.png',\n",
    "            'rbt_scn2.png', 'rbt_scn3.png', 'rbt_scn4.png']\n",
    "\n",
    "for file in imagenes:\n",
    "    img = cv.imread(file, 0)\n",
    "    extracted = lbp(file)\n",
    "    plot_histograms(img, extracted)\n",
    "    cv.imshow('image', extracted)\n",
    "    cv.waitKey(0)\n",
    "    cv.destroyAllWindows()"
   ]
  },
  {
   "cell_type": "code",
   "execution_count": null,
   "metadata": {},
   "outputs": [],
   "source": []
  },
  {
   "cell_type": "code",
   "execution_count": null,
   "metadata": {},
   "outputs": [],
   "source": []
  }
 ],
 "metadata": {
  "kernelspec": {
   "display_name": "vci",
   "language": "python",
   "name": "vci"
  },
  "language_info": {
   "codemirror_mode": {
    "name": "ipython",
    "version": 3
   },
   "file_extension": ".py",
   "mimetype": "text/x-python",
   "name": "python",
   "nbconvert_exporter": "python",
   "pygments_lexer": "ipython3",
   "version": "3.7.10"
  }
 },
 "nbformat": 4,
 "nbformat_minor": 5
}

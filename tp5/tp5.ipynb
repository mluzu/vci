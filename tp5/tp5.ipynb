{
 "cells": [
  {
   "cell_type": "code",
   "execution_count": 1,
   "id": "333cd415",
   "metadata": {},
   "outputs": [
    {
     "ename": "SyntaxError",
     "evalue": "'return' outside function (<ipython-input-1-f974d4f1c42d>, line 76)",
     "output_type": "error",
     "traceback": [
      "\u001b[1;36m  File \u001b[1;32m\"<ipython-input-1-f974d4f1c42d>\"\u001b[1;36m, line \u001b[1;32m76\u001b[0m\n\u001b[1;33m    return (tl[0], tl[1], br[0], br[1])\u001b[0m\n\u001b[1;37m    ^\u001b[0m\n\u001b[1;31mSyntaxError\u001b[0m\u001b[1;31m:\u001b[0m 'return' outside function\n"
     ]
    }
   ],
   "source": [
    "import cv2 as cv\n",
    "import numpy as np\n",
    "\n",
    "inputMode = True\n",
    "roiPts = [] \n",
    "frame = None\n",
    "roiBox = None\n",
    "\n",
    "# callback del mouse\n",
    "def selectROI(event, x, y, flags, param):\n",
    "    global frame, roiPts, inputMode\n",
    "    if inputMode and event==cv.EVENT_LBUTTONDOWN and len(roiPts) < 4:\n",
    "        roiPts.append((x, y))\n",
    "        # pone el el frame el punto seleccionado\n",
    "        cv.circle(frame, (x, y), 4, (0, 255, 0), 2)\n",
    "        \n",
    "    \n",
    "cam = cv.VideoCapture(0)\n",
    "term_crit = ( cv.TERM_CRITERIA_COUNT | cv.TERM_CRITERIA_EPS, 10, 1 )\n",
    "cv.namedWindow('Cam')  \n",
    "cv.setMouseCallback('Cam',selectROI)  \n",
    "\n",
    "while True:\n",
    "   \n",
    "    ret, frame = cam.read()\n",
    "\n",
    "    if ret == True:\n",
    "        \n",
    "        # espera en input mode\n",
    "        \n",
    "        while len(roiPts) < 4:\n",
    "            cv.imshow(\"Cam\", frame)\n",
    "            cv.waitKey(0)\n",
    "               \n",
    "                \n",
    "        \n",
    "        # determine the top-left and bottom-right points\n",
    "        roiPts = np.array(roiPts)\n",
    "        s = roiPts.sum(axis = 1)\n",
    "        tl = roiPts[np.argmin(s)]\n",
    "        br = roiPts[np.argmax(s)]\n",
    "\n",
    "        # grab the ROI for the bounding box and convert it to the HSV color space\n",
    "        roi = orig[tl[1]:br[1], tl[0]:br[0]]\n",
    "        roi = cv.cvtColor(roi, cv.COLOR_BGR2HSV)\n",
    "\n",
    "        # compute a HSV histogram for the ROI and store the bounding box\n",
    "        roiHist = cv.calcHist([roi], [0], None, [16], [0, 180])\n",
    "        roiHist = cv.normalize(roiHist, roiHist, 0, 255, cv.NORM_MINMAX)\n",
    "        return (tl[0], tl[1], br[0], br[1])\n",
    "            \n",
    "        hsv = cv.cvtColor(frame, cv.COLOR_BGR2HSV)\n",
    "        dst = cv.calcBackProject([hsv],[0],roiHist,[0,180],1)\n",
    "        r, roiBox = cv.CamShift(backProj, roiBox, termination)\n",
    "        pts = np.int0(cv.cv.BoxPoints(r))\n",
    "        img = cv.polylines(frame, [pts], True, (0, 255, 0), 2)\n",
    "        cv.imshow('Cam',img)\n",
    "        \n",
    "        k = cv.waitKey(30) & 0xff\n",
    "        if k == 27:\n",
    "            break\n",
    "\n",
    "        \n",
    "    else:\n",
    "        break\n",
    "\n",
    "cv.destroyAllWindows()\n",
    "cam.release()"
   ]
  },
  {
   "cell_type": "code",
   "execution_count": 4,
   "id": "335db404",
   "metadata": {},
   "outputs": [],
   "source": [
    "\n"
   ]
  },
  {
   "cell_type": "code",
   "execution_count": null,
   "id": "5d9abc07",
   "metadata": {},
   "outputs": [],
   "source": []
  },
  {
   "cell_type": "code",
   "execution_count": null,
   "id": "a131cf78",
   "metadata": {},
   "outputs": [],
   "source": []
  },
  {
   "cell_type": "code",
   "execution_count": null,
   "id": "4309f339",
   "metadata": {},
   "outputs": [],
   "source": []
  },
  {
   "cell_type": "code",
   "execution_count": null,
   "id": "63d9e4cf",
   "metadata": {},
   "outputs": [],
   "source": []
  }
 ],
 "metadata": {
  "kernelspec": {
   "display_name": "Python 3",
   "language": "python",
   "name": "python3"
  },
  "language_info": {
   "codemirror_mode": {
    "name": "ipython",
    "version": 3
   },
   "file_extension": ".py",
   "mimetype": "text/x-python",
   "name": "python",
   "nbconvert_exporter": "python",
   "pygments_lexer": "ipython3",
   "version": "3.8.8"
  }
 },
 "nbformat": 4,
 "nbformat_minor": 5
}

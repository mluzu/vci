{
 "cells": [
  {
   "cell_type": "code",
   "execution_count": 21,
   "id": "333cd415",
   "metadata": {},
   "outputs": [],
   "source": [
    "import cv2 as cv\n",
    "import numpy as np\n",
    "\n",
    "inputMode = True\n",
    "\n",
    "\n",
    "cam = cv.VideoCapture(0)\n",
    "ret, frame = cam.read()\n",
    "\n",
    "x, y = 0, 0\n",
    "height, width = 25, 25\n",
    "track_window = (x,y,width,height)\n",
    "roi = frame[y:y + height, x:x + width]\n",
    "\n",
    "# callback del mouse\n",
    "def selectROI(event, x, y, flags, param):\n",
    "    global frame, roi, inputMode\n",
    "    if inputMode and event==cv.EVENT_LBUTTONDOWN and len(roi) < 4:\n",
    "        roi.append((x, y))\n",
    "        cv.circle(frame, (x, y), 4, (0, 255, 0), 2)\n",
    "        cv.imshow('Cam', frame)\n",
    "\n",
    "# mask\n",
    "hsv_roi =  cv.cvtColor(roi, cv.COLOR_BGR2HSV)\n",
    "mask = cv.inRange(hsv_roi, np.array((0., 60.,32.)), np.array((180.,255.,255.)))\n",
    "roi_hist = cv.calcHist([hsv_roi],[0],mask,[180],[0,180])\n",
    "cv.normalize(roi_hist,roi_hist,0,255,cv.NORM_MINMAX)\n",
    "\n",
    "# criterio de terminación\n",
    "term_crit = ( cv.TERM_CRITERIA_COUNT | cv.TERM_CRITERIA_EPS, 10, 1 )\n",
    "\n",
    "cv.namedWindow('Cam')  \n",
    "cv.setMouseCallback('Cam',selectROI)  \n",
    "\n",
    "while True:\n",
    "   \n",
    "    ret, frame = cam.read()\n",
    "\n",
    "    if ret == True:\n",
    "        hsv = cv.cvtColor(frame, cv.COLOR_BGR2HSV)\n",
    "        dst = cv.calcBackProject([hsv],[0],roi_hist,[0,180],1)\n",
    "        \n",
    "        ret, track_window = cv.CamShift(dst, track_window, term_crit)\n",
    "        x,y,w,h = track_window\n",
    "        img = cv.rectangle(frame, (x,y), (x+w,y+h), 255,2)\n",
    "        cv.imshow('Cam', img)\n",
    "\n",
    "        k = cv.waitKey(60) & 0xff\n",
    "        if k == 27:\n",
    "            break\n",
    "        else:\n",
    "            cv.imwrite(chr(k)+\".jpg\",img)\n",
    "    else:\n",
    "        break\n",
    "\n",
    "cv.destroyAllWindows()\n",
    "cam.release()"
   ]
  },
  {
   "cell_type": "code",
   "execution_count": 8,
   "id": "93885b17",
   "metadata": {},
   "outputs": [],
   "source": []
  },
  {
   "cell_type": "code",
   "execution_count": null,
   "id": "5d9abc07",
   "metadata": {},
   "outputs": [],
   "source": []
  }
 ],
 "metadata": {
  "kernelspec": {
   "display_name": "Python 3",
   "language": "python",
   "name": "python3"
  },
  "language_info": {
   "codemirror_mode": {
    "name": "ipython",
    "version": 3
   },
   "file_extension": ".py",
   "mimetype": "text/x-python",
   "name": "python",
   "nbconvert_exporter": "python",
   "pygments_lexer": "ipython3",
   "version": "3.8.8"
  }
 },
 "nbformat": 4,
 "nbformat_minor": 5
}

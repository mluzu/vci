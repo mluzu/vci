{
 "cells": [
  {
   "cell_type": "code",
   "execution_count": 1,
   "id": "333cd415",
   "metadata": {},
   "outputs": [
    {
     "ename": "AttributeError",
     "evalue": "module 'numpy' has no attribute 'intii0'",
     "output_type": "error",
     "traceback": [
      "\u001b[1;31m---------------------------------------------------------------------------\u001b[0m",
      "\u001b[1;31mAttributeError\u001b[0m                            Traceback (most recent call last)",
      "\u001b[1;32m<ipython-input-1-f117da625a1d>\u001b[0m in \u001b[0;36m<module>\u001b[1;34m\u001b[0m\n\u001b[0;32m     32\u001b[0m             \u001b[0mbackProj\u001b[0m \u001b[1;33m=\u001b[0m \u001b[0mcv\u001b[0m\u001b[1;33m.\u001b[0m\u001b[0mcalcBackProject\u001b[0m\u001b[1;33m(\u001b[0m\u001b[1;33m[\u001b[0m\u001b[0mhsv\u001b[0m\u001b[1;33m]\u001b[0m\u001b[1;33m,\u001b[0m \u001b[1;33m[\u001b[0m\u001b[1;36m0\u001b[0m\u001b[1;33m]\u001b[0m\u001b[1;33m,\u001b[0m \u001b[0mroiHist\u001b[0m\u001b[1;33m,\u001b[0m \u001b[1;33m[\u001b[0m\u001b[1;36m0\u001b[0m\u001b[1;33m,\u001b[0m\u001b[1;36m180\u001b[0m\u001b[1;33m]\u001b[0m\u001b[1;33m,\u001b[0m \u001b[1;36m1\u001b[0m\u001b[1;33m)\u001b[0m\u001b[1;33m\u001b[0m\u001b[1;33m\u001b[0m\u001b[0m\n\u001b[0;32m     33\u001b[0m             \u001b[1;33m(\u001b[0m\u001b[0mr\u001b[0m\u001b[1;33m,\u001b[0m \u001b[0mroiBox\u001b[0m\u001b[1;33m)\u001b[0m\u001b[1;33m=\u001b[0m\u001b[0mcv\u001b[0m\u001b[1;33m.\u001b[0m\u001b[0mCamShift\u001b[0m\u001b[1;33m(\u001b[0m\u001b[0mbackProj\u001b[0m\u001b[1;33m,\u001b[0m \u001b[0mroiBox\u001b[0m\u001b[1;33m,\u001b[0m \u001b[0mterm_crit\u001b[0m\u001b[1;33m)\u001b[0m\u001b[1;33m\u001b[0m\u001b[1;33m\u001b[0m\u001b[0m\n\u001b[1;32m---> 34\u001b[1;33m             \u001b[0mpts\u001b[0m \u001b[1;33m=\u001b[0m \u001b[0mnp\u001b[0m\u001b[1;33m.\u001b[0m\u001b[0mintii0\u001b[0m\u001b[1;33m(\u001b[0m\u001b[0mcv\u001b[0m\u001b[1;33m.\u001b[0m\u001b[0mcv\u001b[0m\u001b[1;33m.\u001b[0m\u001b[0mBoxPoints\u001b[0m\u001b[1;33m(\u001b[0m\u001b[0mr\u001b[0m\u001b[1;33m)\u001b[0m\u001b[1;33m)\u001b[0m\u001b[1;33m\u001b[0m\u001b[1;33m\u001b[0m\u001b[0m\n\u001b[0m\u001b[0;32m     35\u001b[0m             \u001b[0mcv\u001b[0m\u001b[1;33m.\u001b[0m\u001b[0mpolylines\u001b[0m\u001b[1;33m(\u001b[0m\u001b[0mframe\u001b[0m\u001b[1;33m,\u001b[0m \u001b[1;33m[\u001b[0m\u001b[0mpts\u001b[0m\u001b[1;33m]\u001b[0m\u001b[1;33m,\u001b[0m \u001b[1;32mTrue\u001b[0m\u001b[1;33m,\u001b[0m \u001b[1;33m(\u001b[0m\u001b[1;36m0\u001b[0m\u001b[1;33m,\u001b[0m\u001b[1;36m255\u001b[0m\u001b[1;33m,\u001b[0m\u001b[1;36m0\u001b[0m\u001b[1;33m)\u001b[0m\u001b[1;33m,\u001b[0m \u001b[1;36m2\u001b[0m\u001b[1;33m)\u001b[0m\u001b[1;33m\u001b[0m\u001b[1;33m\u001b[0m\u001b[0m\n\u001b[0;32m     36\u001b[0m \u001b[1;33m\u001b[0m\u001b[0m\n",
      "\u001b[1;32m~\\anaconda3\\lib\\site-packages\\numpy\\__init__.py\u001b[0m in \u001b[0;36m__getattr__\u001b[1;34m(attr)\u001b[0m\n\u001b[0;32m    301\u001b[0m                 \u001b[1;32mreturn\u001b[0m \u001b[0mTester\u001b[0m\u001b[1;33m\u001b[0m\u001b[1;33m\u001b[0m\u001b[0m\n\u001b[0;32m    302\u001b[0m \u001b[1;33m\u001b[0m\u001b[0m\n\u001b[1;32m--> 303\u001b[1;33m             raise AttributeError(\"module {!r} has no attribute \"\n\u001b[0m\u001b[0;32m    304\u001b[0m                                  \"{!r}\".format(__name__, attr))\n\u001b[0;32m    305\u001b[0m \u001b[1;33m\u001b[0m\u001b[0m\n",
      "\u001b[1;31mAttributeError\u001b[0m: module 'numpy' has no attribute 'intii0'"
     ]
    }
   ],
   "source": [
    "import cv2 as cv\n",
    "import numpy as np\n",
    "\n",
    "inputMode = True\n",
    "roiPts = [] \n",
    "frame = None\n",
    "roiBox = None\n",
    "\n",
    "# callback del mouse\n",
    "def selectROI(event, x, y, flags, param):\n",
    "    global frame, roiPts, inputMode\n",
    "    if inputMode and event==cv.EVENT_LBUTTONDOWN and len(roiPts) < 4:\n",
    "        roiPts.append((x, y))\n",
    "        # pone el el frame el punto seleccionado\n",
    "        cv.circle(frame, (x, y), 4, (0, 255, 0), 2)\n",
    "        cv.imshow(\"Cam\",frame)\n",
    "        \n",
    "    \n",
    "cam = cv.VideoCapture(0)\n",
    "term_crit = ( cv.TERM_CRITERIA_COUNT | cv.TERM_CRITERIA_EPS, 10, 1 )\n",
    "cv.namedWindow('Cam')  \n",
    "cv.setMouseCallback('Cam',selectROI)  \n",
    "\n",
    "while True:\n",
    "   \n",
    "    ret, frame = cam.read()\n",
    "\n",
    "    if ret == True:\n",
    "        \n",
    "        if roiBox is not None:\n",
    "            hsv = cv.cvtColor(frame, cv.COLOR_BGR2HSV)\n",
    "            backProj = cv.calcBackProject([hsv], [0], roiHist, [0,180], 1)\n",
    "            r, roiBox = cv.CamShift(backProj, roiBox, term_crit)\n",
    "            pts = np.int0(cv.cv.BoxPoints(r))\n",
    "            cv.polylines(frame, [pts], True, (0,255,0), 2)\n",
    "            \n",
    "        cv.imshow(\"Cam\",frame)\n",
    "        k = cv.waitKey(1) & 0XFF\n",
    "        \n",
    "        if k == ord(\"i\") and len(roiPts) <4 :\n",
    "            inputMode = True\n",
    "            orig = frame.copy()\n",
    "\n",
    "            while len(roiPts) <4 :\n",
    "                cv.imshow(\"Cam\",frame)\n",
    "                cv.waitKey(0)\n",
    "\n",
    "            roiPts = np.array(roiPts)\n",
    "            s = roiPts.sum(axis=1)\n",
    "            tl = roiPts[np.argmin(s)]\n",
    "            br = roiPts[np.argmax(s)]\n",
    "\n",
    "            roi = orig[tl[1]:br[1],tl[0]:br[0]]\n",
    "            roi = cv.cvtColor(roi,cv.COLOR_BGR2HSV)\n",
    "\n",
    "            roiHist = cv.calcHist([roi],[0],None, [16],[0,180])\n",
    "            roiHist = cv.normalize(roiHist,roiHist, 0,255,cv.NORM_MINMAX)\n",
    "            roiBox = (tl[0],tl[1],br[0],br[1])\n",
    "        \n",
    "        elif k == 27:\n",
    "            break\n",
    "\n",
    "    else:\n",
    "        break\n",
    "\n",
    "cv.destroyAllWindows()\n",
    "cam.release()"
   ]
  },
  {
   "cell_type": "code",
   "execution_count": null,
   "id": "ab0f8048",
   "metadata": {},
   "outputs": [],
   "source": []
  }
 ],
 "metadata": {
  "kernelspec": {
   "display_name": "Python 3",
   "language": "python",
   "name": "python3"
  },
  "language_info": {
   "codemirror_mode": {
    "name": "ipython",
    "version": 3
   },
   "file_extension": ".py",
   "mimetype": "text/x-python",
   "name": "python",
   "nbconvert_exporter": "python",
   "pygments_lexer": "ipython3",
   "version": "3.8.8"
  }
 },
 "nbformat": 4,
 "nbformat_minor": 5
}

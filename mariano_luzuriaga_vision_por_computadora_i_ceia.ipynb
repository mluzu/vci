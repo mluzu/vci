{
 "cells": [
  {
   "cell_type": "markdown",
   "metadata": {
    "id": "MOSiDRd9Niu3"
   },
   "source": [
    "## Visión Computacional I\n",
    "## Carrera de Especialización en Inteligencia Artificial\n",
    "\n",
    "\n",
    "---\n",
    "\n",
    "\n",
    "# *Resolución de trabajos prácticos*\n",
    "\n",
    "# Mariano A. de Luzuriaga\n",
    "\n"
   ]
  },
  {
   "cell_type": "code",
   "execution_count": 2,
   "metadata": {
    "colab": {
     "base_uri": "https://localhost:8080/"
    },
    "executionInfo": {
     "elapsed": 9715,
     "status": "ok",
     "timestamp": 1619828138810,
     "user": {
      "displayName": "mariano luzuriaga",
      "photoUrl": "",
      "userId": "14931355224050134646"
     },
     "user_tz": 180
    },
    "id": "wowVOYnhNCvl",
    "outputId": "c025a87a-09a3-4a62-8bf9-4c92cf9a324c"
   },
   "outputs": [
    {
     "name": "stdout",
     "output_type": "stream",
     "text": [
      "Requirement already satisfied: numpy in /opt/anaconda3/envs/vci/lib/python3.7/site-packages (1.20.1)\n",
      "Requirement already satisfied: opencv-python in /opt/anaconda3/envs/vci/lib/python3.7/site-packages (4.5.2.52)\n",
      "Requirement already satisfied: numpy>=1.14.5 in /opt/anaconda3/envs/vci/lib/python3.7/site-packages (from opencv-python) (1.20.1)\n",
      "Requirement already satisfied: matplotlib in /opt/anaconda3/envs/vci/lib/python3.7/site-packages (3.3.4)\n",
      "Requirement already satisfied: pillow>=6.2.0 in /opt/anaconda3/envs/vci/lib/python3.7/site-packages (from matplotlib) (8.2.0)\n",
      "Requirement already satisfied: kiwisolver>=1.0.1 in /opt/anaconda3/envs/vci/lib/python3.7/site-packages (from matplotlib) (1.3.1)\n",
      "Requirement already satisfied: cycler>=0.10 in /opt/anaconda3/envs/vci/lib/python3.7/site-packages (from matplotlib) (0.10.0)\n",
      "Requirement already satisfied: numpy>=1.15 in /opt/anaconda3/envs/vci/lib/python3.7/site-packages (from matplotlib) (1.20.1)\n",
      "Requirement already satisfied: pyparsing!=2.0.4,!=2.1.2,!=2.1.6,>=2.0.3 in /opt/anaconda3/envs/vci/lib/python3.7/site-packages (from matplotlib) (2.4.7)\n",
      "Requirement already satisfied: python-dateutil>=2.1 in /opt/anaconda3/envs/vci/lib/python3.7/site-packages (from matplotlib) (2.8.1)\n",
      "Requirement already satisfied: six in /opt/anaconda3/envs/vci/lib/python3.7/site-packages (from cycler>=0.10->matplotlib) (1.15.0)\n"
     ]
    }
   ],
   "source": [
    "!pip install numpy\n",
    "!pip install opencv-python\n",
    "!pip install matplotlib"
   ]
  },
  {
   "cell_type": "code",
   "execution_count": 4,
   "metadata": {
    "executionInfo": {
     "elapsed": 791,
     "status": "ok",
     "timestamp": 1619828147732,
     "user": {
      "displayName": "mariano luzuriaga",
      "photoUrl": "",
      "userId": "14931355224050134646"
     },
     "user_tz": 180
    },
    "id": "aE6jyC1EP5DK"
   },
   "outputs": [
    {
     "ename": "ModuleNotFoundError",
     "evalue": "No module named 'cv2'",
     "output_type": "error",
     "traceback": [
      "\u001b[0;31m---------------------------------------------------------------------------\u001b[0m",
      "\u001b[0;31mModuleNotFoundError\u001b[0m                       Traceback (most recent call last)",
      "\u001b[0;32m<ipython-input-4-e6434ba93ee7>\u001b[0m in \u001b[0;36m<module>\u001b[0;34m\u001b[0m\n\u001b[1;32m      1\u001b[0m \u001b[0;32mimport\u001b[0m \u001b[0mnumpy\u001b[0m \u001b[0;32mas\u001b[0m \u001b[0mnp\u001b[0m\u001b[0;34m\u001b[0m\u001b[0;34m\u001b[0m\u001b[0m\n\u001b[0;32m----> 2\u001b[0;31m \u001b[0;32mimport\u001b[0m \u001b[0mcv2\u001b[0m \u001b[0;32mas\u001b[0m \u001b[0mcv\u001b[0m\u001b[0;34m\u001b[0m\u001b[0;34m\u001b[0m\u001b[0m\n\u001b[0m\u001b[1;32m      3\u001b[0m \u001b[0;32mimport\u001b[0m \u001b[0mmatplotlib\u001b[0m \u001b[0;32mas\u001b[0m \u001b[0mplt\u001b[0m\u001b[0;34m\u001b[0m\u001b[0;34m\u001b[0m\u001b[0m\n",
      "\u001b[0;31mModuleNotFoundError\u001b[0m: No module named 'cv2'"
     ]
    }
   ],
   "source": [
    "import numpy as np\n",
    "import cv2 as cv\n",
    "import matplotlib as plt"
   ]
  },
  {
   "cell_type": "code",
   "execution_count": null,
   "metadata": {
    "id": "1CgBhyUxSBFX"
   },
   "outputs": [],
   "source": []
  }
 ],
 "metadata": {
  "colab": {
   "authorship_tag": "ABX9TyPsQuo6/ex9Ey5YOG7VckcQ",
   "collapsed_sections": [],
   "name": "mariano_luzuriaga_vision_por_computadora_i_ceia.ipynb",
   "provenance": []
  },
  "kernelspec": {
   "display_name": "Python 3",
   "language": "python",
   "name": "python3"
  },
  "language_info": {
   "codemirror_mode": {
    "name": "ipython",
    "version": 3
   },
   "file_extension": ".py",
   "mimetype": "text/x-python",
   "name": "python",
   "nbconvert_exporter": "python",
   "pygments_lexer": "ipython3",
   "version": "3.8.5"
  }
 },
 "nbformat": 4,
 "nbformat_minor": 1
}

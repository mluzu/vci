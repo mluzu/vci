{
 "cells": [
  {
   "cell_type": "code",
   "execution_count": null,
   "metadata": {},
   "outputs": [],
   "source": [
    "import numpy as np\n",
    "import cv2 as cv\n",
    "import matplotlib.pyplot as plt\n",
    "\n",
    "\n",
    "ojos = cv.imread('eyes.jpg', cv.IMREAD_COLOR)\n",
    "gray = cv.cvtColor(ojos, cv.COLOR_BGR2GRAY)\n",
    "ojos_blur = cv.medianBlur(gray, 5)\n",
    "\n",
    "\n",
    "# parametros \n",
    "method = cv.HOUGH_GRADIENT\n",
    "dp = 1 # resolucion del acumulador igual a la de la imagen\n",
    "minDist = 15 # distancia minima entre centros de los circulos\n",
    "param1 = 300 # el maximo umbral del detector de Canny\n",
    "param2 = 30 # umbral del acumulador del detector de centros\n",
    "minRadius = 5 # radio minimo \n",
    "maxRadius = 60 # radio maximo\n",
    "\n",
    "circles = cv.HoughCircles(ojos_blur, method, dp, minDist, param1=param1, param2=param2, minRadius=minRadius, maxRadius=maxRadius)\n",
    "\n",
    "if circles is not None:\n",
    "    circles = np.uint16(np.around(circles))\n",
    "    for i in circles[0, :]:\n",
    "        # perimetro\n",
    "        cv.circle(ojos, (i[0], i[1]), i[2], (0, 255, 0), 2)\n",
    "        # centro\n",
    "        cv.circle(ojos, (i[0], i[1]), 2, (0, 0, 255), 3)\n",
    "\n",
    "cv.imshow('Iris detectado',ojos)\n",
    "cv.waitKey(0)\n",
    "cv.destroyAllWindows()"
   ]
  },
  {
   "cell_type": "code",
   "execution_count": null,
   "metadata": {},
   "outputs": [],
   "source": []
  }
 ],
 "metadata": {
  "kernelspec": {
   "display_name": "vci",
   "language": "python",
   "name": "vci"
  },
  "language_info": {
   "codemirror_mode": {
    "name": "ipython",
    "version": 3
   },
   "file_extension": ".py",
   "mimetype": "text/x-python",
   "name": "python",
   "nbconvert_exporter": "python",
   "pygments_lexer": "ipython3",
   "version": "3.7.10"
  }
 },
 "nbformat": 4,
 "nbformat_minor": 4
}

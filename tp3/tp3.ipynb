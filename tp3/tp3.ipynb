{
 "cells": [
  {
   "cell_type": "code",
   "execution_count": null,
   "metadata": {},
   "outputs": [
    {
     "name": "stdout",
     "output_type": "stream",
     "text": [
      "[[[461.5 181.5  30.9]\n",
      "  [143.5 188.5  32.2]\n",
      "  [464.5 514.5  31.9]\n",
      "  [138.5 295.5  29.9]\n",
      "  [463.5 511.5  34.4]\n",
      "  [460.5 180.5  32.1]\n",
      "  [144.5 187.5  33.3]\n",
      "  [464.5 418.5  30.6]\n",
      "  [448.5 291.5  32.2]\n",
      "  [142.5 187.5  33.2]\n",
      "  [457.5  80.5  27.4]\n",
      "  [464.5 416.5  32. ]\n",
      "  [132.5 413.5  30. ]\n",
      "  [129.5 505.5  31.1]\n",
      "  [447.5 292.5  31.1]\n",
      "  [146.5 191.5  28.7]\n",
      "  [462.5 512.5  34.4]\n",
      "  [132.5 505.5  13.4]\n",
      "  [131.5 418.5  25.2]\n",
      "  [463.5 515.5  11.8]\n",
      "  [454.5  79.5  11.6]\n",
      "  [445.5 295.5   9.4]\n",
      "  [133.5 507.5  13.2]\n",
      "  [462.5 417.5  12.2]\n",
      "  [134.5 413.5  10.6]\n",
      "  [150.5  79.5  10.6]\n",
      "  [136.5 412.5  13. ]]]\n"
     ]
    }
   ],
   "source": [
    "import numpy as np\n",
    "import cv2 as cv\n",
    "import matplotlib.pyplot as plt\n",
    "\n",
    "\n",
    "ojos = cv.imread('eyes.jpg', cv.IMREAD_COLOR)\n",
    "gray = cv.cvtColor(ojos, cv.COLOR_BGR2GRAY)\n",
    "ojos_blur = cv.medianBlur(gray, 5)\n",
    "\n",
    "\n",
    "# parametros \n",
    "method = cv.HOUGH_GRADIENT\n",
    "dp = 1 # resolucion del acumulador igual a la de la imagen\n",
    "minDist = 0.01 # distancia minima entre centros de los circulos\n",
    "param1 = 140 # el maximo umbral del detector de Canny\n",
    "param2 = 30 # umbral del acumulador del detector de centros\n",
    "minRadius = 7 # radio minimo \n",
    "maxRadius = 35 # radio maximo\n",
    "\n",
    "circles = cv.HoughCircles(ojos_blur, method, dp, minDist, param1=param1, param2=param2, minRadius=minRadius, maxRadius=maxRadius)\n",
    "print(circles)\n",
    "if circles is not None:\n",
    "    circles = np.uint16(np.around(circles))\n",
    "    for i in circles[0, :]:\n",
    "        # perimetro\n",
    "        cv.circle(ojos, (i[0], i[1]), i[2], (0, 255, 0), 2)\n",
    "        # centro\n",
    "        cv.circle(ojos, (i[0], i[1]), 2, (0, 0, 255), 3)\n",
    "\n",
    "cv.imshow('Iris detectado',ojos)\n",
    "cv.waitKey(0)\n",
    "cv.destroyAllWindows()"
   ]
  },
  {
   "cell_type": "code",
   "execution_count": null,
   "metadata": {},
   "outputs": [],
   "source": []
  }
 ],
 "metadata": {
  "kernelspec": {
   "display_name": "vci",
   "language": "python",
   "name": "vci"
  },
  "language_info": {
   "codemirror_mode": {
    "name": "ipython",
    "version": 3
   },
   "file_extension": ".py",
   "mimetype": "text/x-python",
   "name": "python",
   "nbconvert_exporter": "python",
   "pygments_lexer": "ipython3",
   "version": "3.7.10"
  }
 },
 "nbformat": 4,
 "nbformat_minor": 4
}
